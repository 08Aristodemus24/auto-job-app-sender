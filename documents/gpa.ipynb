{
 "cells": [
  {
   "cell_type": "code",
   "execution_count": null,
   "id": "5ced05ba",
   "metadata": {
    "vscode": {
     "languageId": "powershell"
    }
   },
   "outputs": [
    {
     "data": {
      "text/plain": [
       "58"
      ]
     },
     "execution_count": 1,
     "metadata": {},
     "output_type": "execute_result"
    }
   ],
   "source": [
    "test = [[3, 1.50],\n",
    "    [3, 1.00],\n",
    "    [3, 2.50],\n",
    "    [3, 2.25],\n",
    "    [3, 2.25],\n",
    "    [3, 2.00],\n",
    "    [3, 2.25],\n",
    "    [3, 2.75],\n",
    "    [3, 2.50],\n",
    "    [3, 2.00],\n",
    "    [3, 1.00],\n",
    "    [3, 2.75],\n",
    "    [3, 2.75],\n",
    "    [3, 2.00],\n",
    "    [3, 2.25],\n",
    "    [3, 3.00],\n",
    "    [3, 2.00],\n",
    "    [3, 2.00],\n",
    "    [3, 2.75],\n",
    "    [3, 1.25],\n",
    "    [3, 1.75],\n",
    "    [3, 1.50],\n",
    "    [3, 1.50],\n",
    "    [3, 3.00],\n",
    "    [3, 1.75],\n",
    "    [3, 2.50],\n",
    "    [3, 1.25],\n",
    "    [3, 1.50],\n",
    "    [3, 1.75],\n",
    "    [3, 2.75],\n",
    "    [3, 2.00],\n",
    "    [3, 2.00],\n",
    "    [3, 2.75],\n",
    "    [3, 1.00],\n",
    "    [3, 1.25],\n",
    "    [3, 2.50],\n",
    "    [3, 2.75],\n",
    "    [2, 1.00],\n",
    "    [3, 1.00],\n",
    "    [3, 1.75],\n",
    "    [3, 1.75],\n",
    "    [3, 1.50],\n",
    "    [3, 1.25],\n",
    "    [3, 2.25],\n",
    "    [3, 1.25],\n",
    "    [3, 2.50],\n",
    "    [3, 1.75],\n",
    "    [3, 2.00],\n",
    "    [3, 1.75],\n",
    "    [3, 2.50],\n",
    "    [3, 2.00],\n",
    "    [3, 1.25],\n",
    "    [3, 1.00],\n",
    "    [3, 1.75],\n",
    "    [2, 1.00],\n",
    "    [2, 1.25],\n",
    "    [2, 1.25],\n",
    "    [2, 1.00]\n",
    "]\n",
    "len(test)"
   ]
  },
  {
   "cell_type": "code",
   "execution_count": null,
   "id": "f3f28022",
   "metadata": {
    "vscode": {
     "languageId": "powershell"
    }
   },
   "outputs": [],
   "source": [
    "# https://theexecutivelibrary.weebly.com/gwa-calculator.html\n",
    "\n",
    "# let grade_inputs = document.querySelectorAll(\"tbody > tr.graderow > td > input.grade\")\n",
    "# let unit_inputs = document.querySelectorAll(\"tbody > tr.graderow > td > input.unit\")\n",
    "\n",
    "# for(let i = 0; test.length; i++){\n",
    "#     unit_inputs[i].value = test[i][0];\n",
    "#     grade_inputs[i].value = test[i][1];\n",
    "# }"
   ]
  }
 ],
 "metadata": {
  "kernelspec": {
   "display_name": "tech-interview",
   "language": "python",
   "name": "python3"
  },
  "language_info": {
   "codemirror_mode": {
    "name": "ipython",
    "version": 3
   },
   "file_extension": ".py",
   "mimetype": "text/x-python",
   "name": "python",
   "nbconvert_exporter": "python",
   "pygments_lexer": "ipython3",
   "version": "3.11.8"
  }
 },
 "nbformat": 4,
 "nbformat_minor": 5
}
